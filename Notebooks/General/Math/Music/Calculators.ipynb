{
	"nbformat": 4,
	"nbformat_minor": 0,
	"metadata": {
		"colab": {
			"name": "Music Calculators",
			"provenance": []
		},
		"kernelspec": {
			"name": "python3",
			"display_name": "Python 3"
		},
		"language_info": {
			"name": "python"
		}
	},
	"cells": [
		{
			"cell_type": "markdown",
			"metadata": {
				"id": ""
			},
			"source": [
				"<font size=6>Music functions related to pitch and time. 🎶</font>"
			]
		},
		{
			"cell_type": "markdown",
			"metadata": {
				"id": ""
			},
			"source": [
				"# **Various** ⚙️"
			]
		},
		{
			"cell_type": "code",
			"metadata": {
				"id": "",
				"cellView": "form"
			},
			"source": [
				"#@title ## Closest value to given BPM that can be used for *Dancing Waveform Experiment*\n",
				"#@markdown Float values are esmaited.\n",
				"BPM = 130.000 #@param {type:\"number\"}\n",
				"#---#\n",
				"\n",
				"BPMs = []\n",
				"Values = []\n",
				"\n",
				"#---#\n",
				"\n",
				"def frange(start = 0, stop = None, step = 1) -> list:\n",
				"\t\"\"\"Range with floats support\"\"\"\n",
				"\tn = int(round((stop - start)/float(step)))\n",
				"\tif n > 1:\n",
				"\t\treturn [start + step*i for i in range(n+1)]\n",
				"\telif n == 1:\n",
				"\t\treturn [start]\n",
				"\telse:\n",
				"\t\treturn []\n",
				"\n",
				"for Value in frange(1, BPM, 0.001):\n",
				"\tValues += [round(Value, 3)]\n",
				"\n",
				"for BPM in Values:\n",
				"\tif not len(str(BPM / 60).split(\".\")[-1]) > 2:\n",
				"\t\tBPMs += [BPM]\n",
				"\n",
				"print(min(BPMs, key = lambda Value: abs(Value - BPM)), \"BPM\")"
			]
		},
		{
			"cell_type": "code",
			"metadata": {
				"id": "",
				"cellView": "form"
			},
			"source": [
				"#@title ## Time stretch or pitch shift required to convert `From` BPM to `Target` BPM.\n",
				"#@markdown Works with sample rates too.\n",
				"From = 135 #@param {type: \"number\"}\n",
				"Target = 120 #@param {type: \"number\"}\n",
				"\n",
				"from math import *\n",
				"Result_Pitch = ceil((1200 / log(2)) * log(Target / From))\n",
				"Result_Time = 100 * (From / Target)\n",
				"\n",
				"print(\"Time stretch:\\t\" + str(round(Result_Time, 3)) + \"%\")\n",
				"print(\"Pitch shift:\\t\" + str(Result_Pitch), \"cents\")"
			],
			"outputs": [
				{
					"output_type": "stream",
					"name": "stdout",
					"text": [
						"Time stretch:\t112.5%\n",
						"Pitch shift:\t-203 cents\n"
					]
				}
			]
		},
		{
			"cell_type": "code",
			"source": [
				"#@title ## Resample by cents.\n",
				"#@markdown Values are esmaited.\n",
				"SampleRate = 44100 #@param {type: \"number\"}\n",
				"Resample_by = -50 #@param {type: \"number\"}\n",
				"\n",
				"if Resample_by < 0:\n",
				"\tSign = \"\"\n",
				"\tResample_by_Display = \" \".join((str(Resample_by)[0], str(Resample_by)[1:]))\n",
				"else:\n",
				"\tSign = \"+ \"\n",
				"\tResample_by_Display = Resample_by\n",
				"\n",
				"from math import *\n",
				"for Frequency in range(1, SampleRate):\n",
				"\tResult = (1200 / log(2)) * log(Frequency / SampleRate * 2)\n",
				"\tif round(Result) == Resample_by:\n",
				"\t\tif Resample_by:\n",
				"\t\t\tFrequency *= 2\n",
				"\t\telse:\n",
				"\t\t\tFrequency = SampleRate\n",
				"\t\tprint(f\"{SampleRate} Hz {Sign}{Resample_by_Display} cents ≈ {Frequency} Hz\")\n",
				"\t\tbreak"
			],
			"metadata": {
				"id": "",
				"cellView": "form"
			},
			"outputs": [
				{
					"output_type": "stream",
					"name": "stdout",
					"text": [
						"44100 Hz - 50 cents ≈ 42834 Hz\n"
					]
				}
			]
		},
		{
			"cell_type": "markdown",
			"metadata": {
				"id": "gYRXEkCeHtg1"
			},
			"source": [
				"# 🕒 **Time**"
			]
		},
		{
			"cell_type": "code",
			"metadata": {
				"id": "",
				"cellView": "form"
			},
			"source": [
				"#@title ## Length of beat and bar. (`4/4`)\n",
				"BPM = 135.000 #@param {type:\"number\"}\n",
				"\n",
				"print(f\"\"\"\n",
				"Length of one beat:\\t60 ÷ {BPM} ≈ {str(round(60 / BPM, 5))} s\n",
				"Length of one bar:\\t240 ÷ {BPM} ≈ {str(round(240 / BPM, 5))} s\n",
				"\"\"\"[1:-1])"
			],
			"outputs": [
				{
					"output_type": "stream",
					"name": "stdout",
					"text": [
						"Length of one beat:\t60 ÷ 120 ≈ 0.5 s\n",
						"Length of one bar:\t240 ÷ 120 ≈ 2.0 s\n"
					]
				}
			]
		}
	]
}