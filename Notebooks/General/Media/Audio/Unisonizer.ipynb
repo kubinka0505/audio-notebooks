{
	"nbformat": 4,
	"nbformat_minor": 0,
	"metadata": {
		"colab": {
			"name": "Unisonizer",
			"provenance": [],
			"collapsed_sections": []
		},
		"kernelspec": {
			"name": "python3",
			"display_name": "Python 3"
		}
	},
	"cells": [
		{
			"cell_type": "markdown",
			"metadata": {
				"id": ""
			},
			"source": [
				"Upload as many files as You want.\n",
				"Notebook will automatically create exclusive folders for them. 📂\n"
			]
		},
		{
			"cell_type": "code",
			"metadata": {
				"cellView": "form",
				"id": ""
			},
			"source": [
				"#@title <font color=gold>←</font> Install modules. **(Required for the first time usage!)**\n",
				"%%capture\n",
				"!rm -rf sample_data\n",
				"!python -m pip install py7zr pydub"
			],
			"execution_count": null,
			"outputs": []
		},
		{
			"cell_type": "code",
			"metadata": {
				"id": "",
				"cellView": "form"
			},
			"source": [
				"#@title <font color=red>←</font> Remove <b>ALL</b> files. <font color=red><b>This action is irreversible!</font></b>\n",
				"#@markdown - **Required to restart processing!**\n",
				"%%capture\n",
				"%cd /content\n",
				"!rm -rf *"
			],
			"execution_count": null,
			"outputs": []
		},
		{
			"cell_type": "code",
			"metadata": {
				"id": "",
				"cellView": "form"
			},
			"source": [
				"#@title <font color=lime>←</font> Upload files and <b>Unisonize!</b>\n",
				"import os\n",
				"from py7zr import *\n",
				"from pydub import *\n",
				"from IPython.display import *\n",
				"from datetime import datetime\n",
				"from google.colab import files\n",
				"from itertools import zip_longest\n",
				"\n",
				"#---#\n",
				"\n",
				"__author__ = \"kubinka0505\"\n",
				"__credits__ = __author__\n",
				"__version__ = \"1.0\"\n",
				"__date__ = \"07.02.2021\"\n",
				" \n",
				"#---#\n",
				"\n",
				"Format = \"WAV\" #@param [\"MP3\", \"OGG\", \"WAV\", \"FLAC\"]\n",
				"Invert_Phase_for_Even_Files = False  #@param {type:\"boolean\"}\n",
				"\n",
				"#@markdown - After processing files will be packed to `Audio.7z` archive and **downloaded automatically**.\n",
				"\n",
				"#---#\n",
				"\n",
				"os.chdir(\"/content/\")\n",
				"\n",
				"__Time = \"\".join(list(filter(lambda s:s.isdigit(),str(datetime.now()).split(\" \")[1].split(\".\")[0])))\n",
				"ArchiveName = \"Audio_{0}.7z\".format(__Time)\n",
				"AfterName = \"_stereo\"\n",
				"\n",
				"if os.listdir() == [\".config\", \".ipynb_checkpoints\"]: Files = files.upload()\n",
				"\n",
				"Files = sorted([x for x in os.listdir() if x.endswith(\".{0}\".format(Format.lower()))], key = str)\n",
				"Files_Sorted = [[y, x] for x, y in zip_longest(Files[1::2], Files[::2])]\n",
				"\n",
				"# Create folder for each uploaded file\n",
				"for _Files in Files_Sorted:\n",
				"\tFolderName = _Files[0].split(\".\")[0]\n",
				"\tos.mkdir(FolderName)\n",
				"\tos.rename(_Files[0], \"{0}/{1}\".format(FolderName, _Files[0]))\n",
				"\tos.rename(_Files[1], \"{0}/{1}\".format(FolderName, _Files[1]))\n",
				"\n",
				"Folders = sorted(next(os.walk(\".\"))[1], key = str)[2:]\n",
				"\n",
				"# Modify each audio file in previously created folders\n",
				"for Folder in Folders:\n",
				"\tos.chdir(\"/content/{0}\".format(Folder))\n",
				"\n",
				"\tFiles__ = os.listdir()\n",
				"\n",
				"\tName = \"{0}{1}.{2}\".format(Files__[0].split(\".\")[0], AfterName, Format.lower())\n",
				"\n",
				"\t#---#\n",
				"\n",
				"\tprint(\"\\r\", end = \"Processing {0}...\".format(Folder))\n",
				"\tLeft = AudioSegment.from_file(Files__[0])\n",
				"\tRight = AudioSegment.from_file(Files__[1])\n",
				"\tif Invert_Phase_for_Even_Files == True: Right = Right.invert_phase()\n",
				"\n",
				"\tLeft = Left.pan(-1)\n",
				"\tRight = Right.pan(1)\n",
				"\n",
				"\tLeft = Left.normalize(headroom = 0)\n",
				"\tRight = Right.normalize(headroom = 0)\n",
				"\n",
				"\tMulti = Left.overlay(Right)\n",
				"\tMulti = Multi.normalize(headroom = 0)\n",
				"\n",
				"\tMulti.export(Name, format = Format)\n",
				"\n",
				"\t# Move modified file and remove uploaded files\n",
				"\tos.remove(Files__[0])\n",
				"\tos.remove(Files__[1])\n",
				"\tos.rename(\"{0}/{1}\".format(os.getcwd(), Name), \"{0}/{1}\".format(os.path.realpath(\"..\"), Name))\n",
				"\tos.rmdir(os.getcwd())\n",
				"\tos.chdir(\"..\")\n",
				"\n",
				"os.chdir(\"/content/\")\n",
				"with SevenZipFile(\n",
				"\tArchiveName,\n",
				"\t\"w\",\n",
				"\tfilters = [{\"id\":  FILTER_LZMA2, \"preset\":  PRESET_DEFAULT}]\n",
				"\t) as Archive:\n",
				"\t\tfor x in os.listdir():\n",
				"\t\t\tif x.endswith(Format.lower()):\n",
				"\t\t\t\tArchive.write(x)\n",
				"\n",
				"if len(os.listdir()) != 2: files.download(ArchiveName)"
			],
			"execution_count": null,
			"outputs": []
		}
	]
}
